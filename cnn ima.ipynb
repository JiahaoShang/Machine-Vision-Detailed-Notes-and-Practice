{
 "cells": [
  {
   "cell_type": "code",
   "execution_count": 1,
   "id": "25eff477",
   "metadata": {},
   "outputs": [],
   "source": [
    "import os\n",
    "import warnings\n",
    "warnings.filterwarnings('ignore')\n",
    "import tensorflow as tf\n",
    "from keras.models import Sequential\n",
    "from keras.layers import Convolution2D\n",
    "from keras.layers import MaxPooling2D\n",
    "from keras.layers import Flatten\n",
    "from keras.layers import Dense\n",
    "from tensorflow.keras.optimizers import Adam\n",
    "from keras.preprocessing.image import ImageDataGenerator\n",
    "from sklearn.model_selection import train_test_split"
   ]
  },
  {
   "cell_type": "markdown",
   "id": "6672edb6",
   "metadata": {},
   "source": [
    "## dataset import"
   ]
  },
  {
   "cell_type": "code",
   "execution_count": 2,
   "id": "db1c44d1",
   "metadata": {},
   "outputs": [],
   "source": [
    "base_dir = '/Users/sjhsfile/Desktop/卷积神经网络IMA'\n",
    "training_dir = os.path.join(base_dir,'training')\n",
    "validation_dir = os.path.join(base_dir,'validation')\n",
    "test_dir = os.path.join(base_dir,'test')\n",
    "\n",
    "# train dataset\n",
    "training_man_set= os.path.join(training_dir,'man_shoes')\n",
    "training_women_set= os.path.join(training_dir,'women_shoes')\n",
    "#validation dataset\n",
    "validation_man_set= os.path.join(validation_dir,'man_shoes')\n",
    "validation_women_set = os.path.join(validation_dir,'women_shoes')\n",
    "# test dataset\n",
    "test_man_set= os.path.join(test_dir,'man_shoes')\n",
    "test_woman_set= os.path.join(test_dir,'women_shoes')"
   ]
  },
  {
   "cell_type": "markdown",
   "id": "bb282b4b",
   "metadata": {},
   "source": [
    "## building cnn models"
   ]
  },
  {
   "cell_type": "code",
   "execution_count": 3,
   "id": "ca6f8109",
   "metadata": {},
   "outputs": [
    {
     "name": "stderr",
     "output_type": "stream",
     "text": [
      "2022-03-15 23:54:00.223061: I tensorflow/core/platform/cpu_feature_guard.cc:151] This TensorFlow binary is optimized with oneAPI Deep Neural Network Library (oneDNN) to use the following CPU instructions in performance-critical operations:  AVX2 FMA\n",
      "To enable them in other operations, rebuild TensorFlow with the appropriate compiler flags.\n"
     ]
    }
   ],
   "source": [
    "Model=tf.keras.models.Sequential()\n",
    "Model.add(Convolution2D(filters=32, kernel_size=(3,3),activation=\"relu\",input_shape=(64,64,3)))\n",
    "Model.add(MaxPooling2D((2,2)))\n",
    "# the first convolution layer&pooling layer\n",
    "      \n",
    "Model.add(Convolution2D(filters=64, kernel_size=(3,3),activation=\"relu\"))\n",
    "Model.add(MaxPooling2D((2,2)))\n",
    "# the second convolution layer&pooling layer\n",
    "      \n",
    "Model.add(Convolution2D(128,(3,3),activation=\"relu\"))\n",
    "Model.add(MaxPooling2D((2,2)))\n",
    "# the third convolution layer&pooling layer\n",
    "      \n",
    "Model.add(Flatten())\n",
    "#full connection layer\n",
    "      \n",
    "Model.add(Dense(128,activation=\"relu\"))\n",
    "Model.add(Dense(128,activation=\"relu\"))\n",
    "#hiden layers\n",
    "Model.add(Dense(1,activation=\"sigmoid\"))\n",
    "#output layers\n"
   ]
  },
  {
   "cell_type": "code",
   "execution_count": 4,
   "id": "a00dfcb3",
   "metadata": {},
   "outputs": [],
   "source": [
    "Model.compile(optimizer='adam',\n",
    "                   loss='binary_crossentropy',\n",
    "                   metrics=['accuracy'])"
   ]
  },
  {
   "cell_type": "code",
   "execution_count": 5,
   "id": "c2afde25",
   "metadata": {},
   "outputs": [],
   "source": [
    "train_datagen=ImageDataGenerator(\n",
    "        rescale=1./255,\n",
    "        shear_range=0.2,\n",
    "        zoom_range=0.2,\n",
    "        horizontal_flip=True)\n",
    "test_datagen=ImageDataGenerator(rescale=1./255)"
   ]
  },
  {
   "cell_type": "code",
   "execution_count": 6,
   "id": "aa33ff5f",
   "metadata": {},
   "outputs": [
    {
     "name": "stdout",
     "output_type": "stream",
     "text": [
      "Found 1580 images belonging to 2 classes.\n",
      "Found 1580 images belonging to 2 classes.\n",
      "Found 1580 images belonging to 2 classes.\n"
     ]
    }
   ],
   "source": [
    "train_generator = train_datagen.flow_from_directory(\n",
    "    training_dir,\n",
    "    target_size=(64,64),\n",
    "    batch_size=20,\n",
    "    class_mode='binary',\n",
    "    shuffle=True\n",
    ")\n",
    "validation_generator = test_datagen.flow_from_directory(\n",
    "    validation_dir,\n",
    "    target_size=(64,64),\n",
    "    batch_size=20,\n",
    "    class_mode='binary',\n",
    "    shuffle=True\n",
    ")\n",
    "test_generator = test_datagen.flow_from_directory(\n",
    "    test_dir,\n",
    "    target_size=(64,64),\n",
    "    batch_size=20,\n",
    "    class_mode='binary',\n",
    "    shuffle=True\n",
    ")"
   ]
  },
  {
   "cell_type": "code",
   "execution_count": 7,
   "id": "810473e6",
   "metadata": {},
   "outputs": [],
   "source": [
    "# test_dataset = validation_generator.take(validation_generator // 5)"
   ]
  },
  {
   "cell_type": "code",
   "execution_count": null,
   "id": "bf0fb978",
   "metadata": {},
   "outputs": [
    {
     "name": "stdout",
     "output_type": "stream",
     "text": [
      "Epoch 1/150\n",
      "79/79 - 93s - loss: 0.6223 - accuracy: 0.6557 - val_loss: 0.5146 - val_accuracy: 0.7532 - 93s/epoch - 1s/step\n",
      "Epoch 2/150\n",
      "79/79 - 93s - loss: 0.5362 - accuracy: 0.7259 - val_loss: 0.5362 - val_accuracy: 0.7323 - 93s/epoch - 1s/step\n",
      "Epoch 3/150\n",
      "79/79 - 93s - loss: 0.4946 - accuracy: 0.7671 - val_loss: 0.4063 - val_accuracy: 0.8234 - 93s/epoch - 1s/step\n",
      "Epoch 4/150\n",
      "79/79 - 99s - loss: 0.4583 - accuracy: 0.7930 - val_loss: 0.3738 - val_accuracy: 0.8304 - 99s/epoch - 1s/step\n",
      "Epoch 5/150\n",
      "79/79 - 98s - loss: 0.4458 - accuracy: 0.8000 - val_loss: 0.3661 - val_accuracy: 0.8456 - 98s/epoch - 1s/step\n",
      "Epoch 6/150\n",
      "79/79 - 99s - loss: 0.4330 - accuracy: 0.8038 - val_loss: 0.4408 - val_accuracy: 0.7987 - 99s/epoch - 1s/step\n",
      "Epoch 7/150\n",
      "79/79 - 104s - loss: 0.4247 - accuracy: 0.8025 - val_loss: 0.3695 - val_accuracy: 0.8291 - 104s/epoch - 1s/step\n",
      "Epoch 8/150\n",
      "79/79 - 103s - loss: 0.3887 - accuracy: 0.8304 - val_loss: 0.3772 - val_accuracy: 0.8297 - 103s/epoch - 1s/step\n",
      "Epoch 9/150\n",
      "79/79 - 104s - loss: 0.3790 - accuracy: 0.8342 - val_loss: 0.3671 - val_accuracy: 0.8285 - 104s/epoch - 1s/step\n",
      "Epoch 10/150\n",
      "79/79 - 107s - loss: 0.3783 - accuracy: 0.8367 - val_loss: 0.3719 - val_accuracy: 0.8234 - 107s/epoch - 1s/step\n",
      "Epoch 11/150\n",
      "79/79 - 108s - loss: 0.3656 - accuracy: 0.8392 - val_loss: 0.3437 - val_accuracy: 0.8494 - 108s/epoch - 1s/step\n",
      "Epoch 12/150\n",
      "79/79 - 108s - loss: 0.3631 - accuracy: 0.8468 - val_loss: 0.3115 - val_accuracy: 0.8753 - 108s/epoch - 1s/step\n",
      "Epoch 13/150\n",
      "79/79 - 104s - loss: 0.3570 - accuracy: 0.8443 - val_loss: 0.3238 - val_accuracy: 0.8690 - 104s/epoch - 1s/step\n",
      "Epoch 14/150\n",
      "79/79 - 111s - loss: 0.3461 - accuracy: 0.8525 - val_loss: 0.3101 - val_accuracy: 0.8766 - 111s/epoch - 1s/step\n",
      "Epoch 15/150\n",
      "79/79 - 112s - loss: 0.3479 - accuracy: 0.8443 - val_loss: 0.2974 - val_accuracy: 0.8722 - 112s/epoch - 1s/step\n",
      "Epoch 16/150\n",
      "79/79 - 106s - loss: 0.3293 - accuracy: 0.8608 - val_loss: 0.3802 - val_accuracy: 0.8120 - 106s/epoch - 1s/step\n",
      "Epoch 17/150\n"
     ]
    }
   ],
   "source": [
    "Model.fit(\n",
    "        train_generator,\n",
    "        steps_per_epoch=79,\n",
    "        epochs=150,\n",
    "        validation_data=validation_generator,\n",
    "        validation_steps=79,\n",
    "        verbose=2\n",
    ")"
   ]
  }
 ],
 "metadata": {
  "kernelspec": {
   "display_name": "Python 3 (ipykernel)",
   "language": "python",
   "name": "python3"
  },
  "language_info": {
   "codemirror_mode": {
    "name": "ipython",
    "version": 3
   },
   "file_extension": ".py",
   "mimetype": "text/x-python",
   "name": "python",
   "nbconvert_exporter": "python",
   "pygments_lexer": "ipython3",
   "version": "3.8.12"
  },
  "toc": {
   "base_numbering": 1,
   "nav_menu": {},
   "number_sections": true,
   "sideBar": true,
   "skip_h1_title": false,
   "title_cell": "Table of Contents",
   "title_sidebar": "Contents",
   "toc_cell": false,
   "toc_position": {},
   "toc_section_display": true,
   "toc_window_display": false
  }
 },
 "nbformat": 4,
 "nbformat_minor": 5
}
